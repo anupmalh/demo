{
  "cells": [
    {
      "cell_type": "markdown",
      "metadata": {
        "id": "view-in-github",
        "colab_type": "text"
      },
      "source": [
        "<a href=\"https://colab.research.google.com/github/anupmalh/demo/blob/master/LLMs/langchain-example/automatic_grader-example.ipynb\" target=\"_parent\"><img src=\"https://colab.research.google.com/assets/colab-badge.svg\" alt=\"Open In Colab\"/></a>"
      ]
    },
    {
      "cell_type": "markdown",
      "id": "9abecce8-e57c-40a7-8eed-fa70308061a6",
      "metadata": {
        "id": "9abecce8-e57c-40a7-8eed-fa70308061a6"
      },
      "source": [
        "# Example Code: Automatic Grader\n",
        "\n",
        "Code authored by: Shawhin Talebi <br>\n",
        "Blog link: https://medium.com/towards-data-science/prompt-engineering-how-to-trick-ai-into-solving-your-problems-7ce1ed3b553f"
      ]
    },
    {
      "cell_type": "markdown",
      "id": "30cb081b-c76c-4267-a9d4-d88c0b2fc47c",
      "metadata": {
        "id": "30cb081b-c76c-4267-a9d4-d88c0b2fc47c"
      },
      "source": [
        "### import libraries"
      ]
    },
    {
      "cell_type": "code",
      "source": [
        "!pip install openai==0.27.8\n",
        "!pip install tqdm==4.66.1\n",
        "!pip install langchain[all]"
      ],
      "metadata": {
        "colab": {
          "base_uri": "https://localhost:8080/"
        },
        "id": "B30nHWEyKjUk",
        "outputId": "85c091c0-c371-4dce-ca1f-0bf70069c7a4"
      },
      "id": "B30nHWEyKjUk",
      "execution_count": 1,
      "outputs": [
        {
          "output_type": "stream",
          "name": "stdout",
          "text": [
            "Collecting openai==0.27.8\n",
            "  Downloading openai-0.27.8-py3-none-any.whl (73 kB)\n",
            "\u001b[2K     \u001b[90m━━━━━━━━━━━━━━━━━━━━━━━━━━━━━━━━━━━━━━━━\u001b[0m \u001b[32m73.6/73.6 kB\u001b[0m \u001b[31m1.6 MB/s\u001b[0m eta \u001b[36m0:00:00\u001b[0m\n",
            "\u001b[?25hRequirement already satisfied: requests>=2.20 in /usr/local/lib/python3.10/dist-packages (from openai==0.27.8) (2.31.0)\n",
            "Requirement already satisfied: tqdm in /usr/local/lib/python3.10/dist-packages (from openai==0.27.8) (4.66.4)\n",
            "Requirement already satisfied: aiohttp in /usr/local/lib/python3.10/dist-packages (from openai==0.27.8) (3.9.5)\n",
            "Requirement already satisfied: charset-normalizer<4,>=2 in /usr/local/lib/python3.10/dist-packages (from requests>=2.20->openai==0.27.8) (3.3.2)\n",
            "Requirement already satisfied: idna<4,>=2.5 in /usr/local/lib/python3.10/dist-packages (from requests>=2.20->openai==0.27.8) (3.7)\n",
            "Requirement already satisfied: urllib3<3,>=1.21.1 in /usr/local/lib/python3.10/dist-packages (from requests>=2.20->openai==0.27.8) (2.0.7)\n",
            "Requirement already satisfied: certifi>=2017.4.17 in /usr/local/lib/python3.10/dist-packages (from requests>=2.20->openai==0.27.8) (2024.2.2)\n",
            "Requirement already satisfied: aiosignal>=1.1.2 in /usr/local/lib/python3.10/dist-packages (from aiohttp->openai==0.27.8) (1.3.1)\n",
            "Requirement already satisfied: attrs>=17.3.0 in /usr/local/lib/python3.10/dist-packages (from aiohttp->openai==0.27.8) (23.2.0)\n",
            "Requirement already satisfied: frozenlist>=1.1.1 in /usr/local/lib/python3.10/dist-packages (from aiohttp->openai==0.27.8) (1.4.1)\n",
            "Requirement already satisfied: multidict<7.0,>=4.5 in /usr/local/lib/python3.10/dist-packages (from aiohttp->openai==0.27.8) (6.0.5)\n",
            "Requirement already satisfied: yarl<2.0,>=1.0 in /usr/local/lib/python3.10/dist-packages (from aiohttp->openai==0.27.8) (1.9.4)\n",
            "Requirement already satisfied: async-timeout<5.0,>=4.0 in /usr/local/lib/python3.10/dist-packages (from aiohttp->openai==0.27.8) (4.0.3)\n",
            "Installing collected packages: openai\n",
            "Successfully installed openai-0.27.8\n",
            "Collecting tqdm==4.66.1\n",
            "  Downloading tqdm-4.66.1-py3-none-any.whl (78 kB)\n",
            "\u001b[2K     \u001b[90m━━━━━━━━━━━━━━━━━━━━━━━━━━━━━━━━━━━━━━━━\u001b[0m \u001b[32m78.3/78.3 kB\u001b[0m \u001b[31m1.9 MB/s\u001b[0m eta \u001b[36m0:00:00\u001b[0m\n",
            "\u001b[?25hInstalling collected packages: tqdm\n",
            "  Attempting uninstall: tqdm\n",
            "    Found existing installation: tqdm 4.66.4\n",
            "    Uninstalling tqdm-4.66.4:\n",
            "      Successfully uninstalled tqdm-4.66.4\n",
            "Successfully installed tqdm-4.66.1\n",
            "Collecting langchain[all]\n",
            "  Downloading langchain-0.1.17-py3-none-any.whl (867 kB)\n",
            "\u001b[2K     \u001b[90m━━━━━━━━━━━━━━━━━━━━━━━━━━━━━━━━━━━━━━━━\u001b[0m \u001b[32m867.6/867.6 kB\u001b[0m \u001b[31m5.8 MB/s\u001b[0m eta \u001b[36m0:00:00\u001b[0m\n",
            "\u001b[?25hRequirement already satisfied: PyYAML>=5.3 in /usr/local/lib/python3.10/dist-packages (from langchain[all]) (6.0.1)\n",
            "Requirement already satisfied: SQLAlchemy<3,>=1.4 in /usr/local/lib/python3.10/dist-packages (from langchain[all]) (2.0.29)\n",
            "Requirement already satisfied: aiohttp<4.0.0,>=3.8.3 in /usr/local/lib/python3.10/dist-packages (from langchain[all]) (3.9.5)\n",
            "Requirement already satisfied: async-timeout<5.0.0,>=4.0.0 in /usr/local/lib/python3.10/dist-packages (from langchain[all]) (4.0.3)\n",
            "Collecting dataclasses-json<0.7,>=0.5.7 (from langchain[all])\n",
            "  Downloading dataclasses_json-0.6.5-py3-none-any.whl (28 kB)\n",
            "Collecting jsonpatch<2.0,>=1.33 (from langchain[all])\n",
            "  Downloading jsonpatch-1.33-py2.py3-none-any.whl (12 kB)\n",
            "Collecting langchain-community<0.1,>=0.0.36 (from langchain[all])\n",
            "  Downloading langchain_community-0.0.37-py3-none-any.whl (2.0 MB)\n",
            "\u001b[2K     \u001b[90m━━━━━━━━━━━━━━━━━━━━━━━━━━━━━━━━━━━━━━━━\u001b[0m \u001b[32m2.0/2.0 MB\u001b[0m \u001b[31m12.1 MB/s\u001b[0m eta \u001b[36m0:00:00\u001b[0m\n",
            "\u001b[?25hCollecting langchain-core<0.2.0,>=0.1.48 (from langchain[all])\n",
            "  Downloading langchain_core-0.1.52-py3-none-any.whl (302 kB)\n",
            "\u001b[2K     \u001b[90m━━━━━━━━━━━━━━━━━━━━━━━━━━━━━━━━━━━━━━━━\u001b[0m \u001b[32m302.9/302.9 kB\u001b[0m \u001b[31m12.5 MB/s\u001b[0m eta \u001b[36m0:00:00\u001b[0m\n",
            "\u001b[?25hCollecting langchain-text-splitters<0.1,>=0.0.1 (from langchain[all])\n",
            "  Downloading langchain_text_splitters-0.0.1-py3-none-any.whl (21 kB)\n",
            "Collecting langsmith<0.2.0,>=0.1.17 (from langchain[all])\n",
            "  Downloading langsmith-0.1.55-py3-none-any.whl (120 kB)\n",
            "\u001b[2K     \u001b[90m━━━━━━━━━━━━━━━━━━━━━━━━━━━━━━━━━━━━━━━━\u001b[0m \u001b[32m120.6/120.6 kB\u001b[0m \u001b[31m9.4 MB/s\u001b[0m eta \u001b[36m0:00:00\u001b[0m\n",
            "\u001b[?25hRequirement already satisfied: numpy<2,>=1 in /usr/local/lib/python3.10/dist-packages (from langchain[all]) (1.25.2)\n",
            "Requirement already satisfied: pydantic<3,>=1 in /usr/local/lib/python3.10/dist-packages (from langchain[all]) (2.7.1)\n",
            "Requirement already satisfied: requests<3,>=2 in /usr/local/lib/python3.10/dist-packages (from langchain[all]) (2.31.0)\n",
            "Requirement already satisfied: tenacity<9.0.0,>=8.1.0 in /usr/local/lib/python3.10/dist-packages (from langchain[all]) (8.2.3)\n",
            "Requirement already satisfied: aiosignal>=1.1.2 in /usr/local/lib/python3.10/dist-packages (from aiohttp<4.0.0,>=3.8.3->langchain[all]) (1.3.1)\n",
            "Requirement already satisfied: attrs>=17.3.0 in /usr/local/lib/python3.10/dist-packages (from aiohttp<4.0.0,>=3.8.3->langchain[all]) (23.2.0)\n",
            "Requirement already satisfied: frozenlist>=1.1.1 in /usr/local/lib/python3.10/dist-packages (from aiohttp<4.0.0,>=3.8.3->langchain[all]) (1.4.1)\n",
            "Requirement already satisfied: multidict<7.0,>=4.5 in /usr/local/lib/python3.10/dist-packages (from aiohttp<4.0.0,>=3.8.3->langchain[all]) (6.0.5)\n",
            "Requirement already satisfied: yarl<2.0,>=1.0 in /usr/local/lib/python3.10/dist-packages (from aiohttp<4.0.0,>=3.8.3->langchain[all]) (1.9.4)\n",
            "Collecting marshmallow<4.0.0,>=3.18.0 (from dataclasses-json<0.7,>=0.5.7->langchain[all])\n",
            "  Downloading marshmallow-3.21.2-py3-none-any.whl (49 kB)\n",
            "\u001b[2K     \u001b[90m━━━━━━━━━━━━━━━━━━━━━━━━━━━━━━━━━━━━━━━━\u001b[0m \u001b[32m49.3/49.3 kB\u001b[0m \u001b[31m3.2 MB/s\u001b[0m eta \u001b[36m0:00:00\u001b[0m\n",
            "\u001b[?25hCollecting typing-inspect<1,>=0.4.0 (from dataclasses-json<0.7,>=0.5.7->langchain[all])\n",
            "  Downloading typing_inspect-0.9.0-py3-none-any.whl (8.8 kB)\n",
            "Collecting jsonpointer>=1.9 (from jsonpatch<2.0,>=1.33->langchain[all])\n",
            "  Downloading jsonpointer-2.4-py2.py3-none-any.whl (7.8 kB)\n",
            "Collecting packaging<24.0,>=23.2 (from langchain-core<0.2.0,>=0.1.48->langchain[all])\n",
            "  Downloading packaging-23.2-py3-none-any.whl (53 kB)\n",
            "\u001b[2K     \u001b[90m━━━━━━━━━━━━━━━━━━━━━━━━━━━━━━━━━━━━━━━━\u001b[0m \u001b[32m53.0/53.0 kB\u001b[0m \u001b[31m4.4 MB/s\u001b[0m eta \u001b[36m0:00:00\u001b[0m\n",
            "\u001b[?25hCollecting orjson<4.0.0,>=3.9.14 (from langsmith<0.2.0,>=0.1.17->langchain[all])\n",
            "  Downloading orjson-3.10.3-cp310-cp310-manylinux_2_17_x86_64.manylinux2014_x86_64.whl (142 kB)\n",
            "\u001b[2K     \u001b[90m━━━━━━━━━━━━━━━━━━━━━━━━━━━━━━━━━━━━━━━━\u001b[0m \u001b[32m142.5/142.5 kB\u001b[0m \u001b[31m13.2 MB/s\u001b[0m eta \u001b[36m0:00:00\u001b[0m\n",
            "\u001b[?25hRequirement already satisfied: annotated-types>=0.4.0 in /usr/local/lib/python3.10/dist-packages (from pydantic<3,>=1->langchain[all]) (0.6.0)\n",
            "Requirement already satisfied: pydantic-core==2.18.2 in /usr/local/lib/python3.10/dist-packages (from pydantic<3,>=1->langchain[all]) (2.18.2)\n",
            "Requirement already satisfied: typing-extensions>=4.6.1 in /usr/local/lib/python3.10/dist-packages (from pydantic<3,>=1->langchain[all]) (4.11.0)\n",
            "Requirement already satisfied: charset-normalizer<4,>=2 in /usr/local/lib/python3.10/dist-packages (from requests<3,>=2->langchain[all]) (3.3.2)\n",
            "Requirement already satisfied: idna<4,>=2.5 in /usr/local/lib/python3.10/dist-packages (from requests<3,>=2->langchain[all]) (3.7)\n",
            "Requirement already satisfied: urllib3<3,>=1.21.1 in /usr/local/lib/python3.10/dist-packages (from requests<3,>=2->langchain[all]) (2.0.7)\n",
            "Requirement already satisfied: certifi>=2017.4.17 in /usr/local/lib/python3.10/dist-packages (from requests<3,>=2->langchain[all]) (2024.2.2)\n",
            "Requirement already satisfied: greenlet!=0.4.17 in /usr/local/lib/python3.10/dist-packages (from SQLAlchemy<3,>=1.4->langchain[all]) (3.0.3)\n",
            "Collecting mypy-extensions>=0.3.0 (from typing-inspect<1,>=0.4.0->dataclasses-json<0.7,>=0.5.7->langchain[all])\n",
            "  Downloading mypy_extensions-1.0.0-py3-none-any.whl (4.7 kB)\n",
            "Installing collected packages: packaging, orjson, mypy-extensions, jsonpointer, typing-inspect, marshmallow, jsonpatch, langsmith, dataclasses-json, langchain-core, langchain-text-splitters, langchain-community, langchain\n",
            "  Attempting uninstall: packaging\n",
            "    Found existing installation: packaging 24.0\n",
            "    Uninstalling packaging-24.0:\n",
            "      Successfully uninstalled packaging-24.0\n",
            "Successfully installed dataclasses-json-0.6.5 jsonpatch-1.33 jsonpointer-2.4 langchain-0.1.17 langchain-community-0.0.37 langchain-core-0.1.52 langchain-text-splitters-0.0.1 langsmith-0.1.55 marshmallow-3.21.2 mypy-extensions-1.0.0 orjson-3.10.3 packaging-23.2 typing-inspect-0.9.0\n"
          ]
        }
      ]
    },
    {
      "cell_type": "code",
      "execution_count": 2,
      "id": "1753887c-51bf-4192-a984-db70ca4df17c",
      "metadata": {
        "id": "1753887c-51bf-4192-a984-db70ca4df17c"
      },
      "outputs": [],
      "source": [
        "from langchain.chat_models import ChatOpenAI\n",
        "from langchain.prompts import PromptTemplate\n",
        "from langchain.chains import LLMChain\n",
        "from langchain.schema import BaseOutputParser"
      ]
    },
    {
      "cell_type": "code",
      "source": [
        "!pip install sk"
      ],
      "metadata": {
        "colab": {
          "base_uri": "https://localhost:8080/"
        },
        "id": "GsRqkKC_NT_k",
        "outputId": "a0e7bad0-202b-482a-d213-1c5feba9b7cc"
      },
      "id": "GsRqkKC_NT_k",
      "execution_count": 3,
      "outputs": [
        {
          "output_type": "stream",
          "name": "stdout",
          "text": [
            "Collecting sk\n",
            "  Downloading sk-0.0.1.tar.gz (1.8 kB)\n",
            "  Preparing metadata (setup.py) ... \u001b[?25l\u001b[?25hdone\n",
            "Building wheels for collected packages: sk\n",
            "  Building wheel for sk (setup.py) ... \u001b[?25l\u001b[?25hdone\n",
            "  Created wheel for sk: filename=sk-0.0.1-py3-none-any.whl size=1869 sha256=94642d28b79070ff3253f7d5d5415a2183b9fd5278e2dc45124f43f75df0d984\n",
            "  Stored in directory: /root/.cache/pip/wheels/1f/c8/ef/12b6b826e0dbc9e760d19c65b967a6cef40c56db145d4717d6\n",
            "Successfully built sk\n",
            "Installing collected packages: sk\n",
            "Successfully installed sk-0.0.1\n"
          ]
        }
      ]
    },
    {
      "cell_type": "code",
      "source": [
        "my_sk = \"\""
      ],
      "metadata": {
        "id": "L6kwFzXKPPxe"
      },
      "id": "L6kwFzXKPPxe",
      "execution_count": 9,
      "outputs": []
    },
    {
      "cell_type": "code",
      "execution_count": null,
      "id": "8b29b119-428b-4ac7-87f6-52c29bf96d5e",
      "metadata": {
        "colab": {
          "base_uri": "https://localhost:8080/",
          "height": 343
        },
        "id": "8b29b119-428b-4ac7-87f6-52c29bf96d5e",
        "outputId": "0ae85a87-4dcc-4ac9-e934-e0fdf1b41c5b"
      },
      "outputs": [
        {
          "output_type": "error",
          "ename": "ImportError",
          "evalue": "cannot import name 'my_sk' from 'sk' (/usr/local/lib/python3.10/dist-packages/sk/__init__.py)",
          "traceback": [
            "\u001b[0;31m---------------------------------------------------------------------------\u001b[0m",
            "\u001b[0;31mImportError\u001b[0m                               Traceback (most recent call last)",
            "\u001b[0;32m<ipython-input-10-7a392a931fbe>\u001b[0m in \u001b[0;36m<cell line: 2>\u001b[0;34m()\u001b[0m\n\u001b[1;32m      1\u001b[0m \u001b[0;31m# import sk\u001b[0m\u001b[0;34m\u001b[0m\u001b[0;34m\u001b[0m\u001b[0m\n\u001b[0;32m----> 2\u001b[0;31m \u001b[0;32mfrom\u001b[0m \u001b[0msk\u001b[0m \u001b[0;32mimport\u001b[0m \u001b[0mmy_sk\u001b[0m\u001b[0;34m\u001b[0m\u001b[0;34m\u001b[0m\u001b[0m\n\u001b[0m",
            "\u001b[0;31mImportError\u001b[0m: cannot import name 'my_sk' from 'sk' (/usr/local/lib/python3.10/dist-packages/sk/__init__.py)",
            "",
            "\u001b[0;31m---------------------------------------------------------------------------\u001b[0;32m\nNOTE: If your import is failing due to a missing package, you can\nmanually install dependencies using either !pip or !apt.\n\nTo view examples of installing some common dependencies, click the\n\"Open Examples\" button below.\n\u001b[0;31m---------------------------------------------------------------------------\u001b[0m\n"
          ],
          "errorDetails": {
            "actions": [
              {
                "action": "open_url",
                "actionText": "Open Examples",
                "url": "/notebooks/snippets/importing_libraries.ipynb"
              }
            ]
          }
        }
      ],
      "source": [
        "# import sk\n",
        "from sk import my_sk"
      ]
    },
    {
      "cell_type": "markdown",
      "id": "88fe78d4-aa30-437f-a2ad-c0b409458fb1",
      "metadata": {
        "id": "88fe78d4-aa30-437f-a2ad-c0b409458fb1"
      },
      "source": [
        "### define chain"
      ]
    },
    {
      "cell_type": "code",
      "execution_count": 10,
      "id": "c2e30879-75ac-4a56-8823-ac909612e8da",
      "metadata": {
        "id": "c2e30879-75ac-4a56-8823-ac909612e8da"
      },
      "outputs": [],
      "source": [
        "# define chatbot\n",
        "chat_model = ChatOpenAI(openai_api_key=my_sk, temperature=0)"
      ]
    },
    {
      "cell_type": "code",
      "execution_count": 11,
      "id": "64d0d947-54da-4c22-a27a-19196b30d2b0",
      "metadata": {
        "id": "64d0d947-54da-4c22-a27a-19196b30d2b0"
      },
      "outputs": [],
      "source": [
        "# define prompt template\n",
        "prompt_template_text = \"\"\"You are a high school history teacher grading homework assignments. \\\n",
        "Based on the homework question indicated by “**Q:**” and the correct answer indicated by “**A:**”, your task is to determine whether the student's answer is correct. \\\n",
        "Grading is binary; therefore, student answers can be correct or wrong. \\\n",
        "Simple misspellings are okay.\n",
        "\n",
        "**Q:** {question}\n",
        "**A:** {correct_answer}\n",
        "\n",
        "**Student's Answer:** {student_answer}\n",
        "\"\"\"\n",
        "\n",
        "prompt = PromptTemplate(input_variables=[\"question\", \"correct_answer\", \"student_answer\"], template = prompt_template_text)"
      ]
    },
    {
      "cell_type": "code",
      "execution_count": 12,
      "id": "0ffaf863-dc3e-4208-be89-d53d3a3bb630",
      "metadata": {
        "id": "0ffaf863-dc3e-4208-be89-d53d3a3bb630"
      },
      "outputs": [],
      "source": [
        "# define chain\n",
        "chain = LLMChain(\n",
        "    llm=chat_model,\n",
        "    prompt=prompt,\n",
        ")"
      ]
    },
    {
      "cell_type": "markdown",
      "id": "36f7149c-c422-404e-b93a-5ccb8d399b14",
      "metadata": {
        "id": "36f7149c-c422-404e-b93a-5ccb8d399b14"
      },
      "source": [
        "### use chain"
      ]
    },
    {
      "cell_type": "code",
      "execution_count": 13,
      "id": "fcdfcc60-2b3f-4a43-8ba1-a8e7b855f981",
      "metadata": {
        "colab": {
          "base_uri": "https://localhost:8080/",
          "height": 37
        },
        "id": "fcdfcc60-2b3f-4a43-8ba1-a8e7b855f981",
        "outputId": "ecfc9cf5-8a76-44a5-9770-8753c08b9c83"
      },
      "outputs": [
        {
          "output_type": "execute_result",
          "data": {
            "text/plain": [
              "'Correct'"
            ],
            "application/vnd.google.colaboratory.intrinsic+json": {
              "type": "string"
            }
          },
          "metadata": {},
          "execution_count": 13
        }
      ],
      "source": [
        "# define inputs\n",
        "question = \"Who was the 35th president of the United States of America?\"\n",
        "correct_answer = \"John F. Kennedy\"\n",
        "student_answer =  \"JFK\"\n",
        "\n",
        "# run chain\n",
        "chain.run({'question':question, 'correct_answer':correct_answer, 'student_answer':student_answer})"
      ]
    },
    {
      "cell_type": "code",
      "execution_count": 14,
      "id": "ac2cb76c-8960-48fd-874a-8d06cb52457a",
      "metadata": {
        "colab": {
          "base_uri": "https://localhost:8080/"
        },
        "id": "ac2cb76c-8960-48fd-874a-8d06cb52457a",
        "outputId": "12b1ee49-d55d-48a9-9467-b415bf452f84"
      },
      "outputs": [
        {
          "output_type": "stream",
          "name": "stdout",
          "text": [
            "John F. Kennedy - The student's answer is correct.\n",
            "\n",
            "\n",
            "JFK - **Grade: Correct**\n",
            "\n",
            "\n",
            "FDR - The student's answer is wrong. The 35th president of the United States of America was John F. Kennedy, not FDR.\n",
            "\n",
            "\n",
            "John F. Kenedy - Correct\n",
            "\n",
            "\n",
            "John Kennedy - The student's answer is correct.\n",
            "\n",
            "\n",
            "Jack Kennedy - **Grade: Correct** - The student's answer \"Jack Kennedy\" is correct, as it is a common nickname for John F. Kennedy, who was indeed the 35th president of the United States.\n",
            "\n",
            "\n",
            "Jacqueline Kennedy - **Student's Answer:** Jacqueline Kennedy\n",
            "\n",
            "**Grade:** Wrong\n",
            "\n",
            "**Feedback:** The correct answer is John F. Kennedy, not Jacqueline Kennedy.\n",
            "\n",
            "\n",
            "Robert F. Kenedy - The student's answer is incorrect.\n",
            "\n",
            "\n"
          ]
        }
      ],
      "source": [
        "# run chain in for loop\n",
        "student_answer_list = [\"John F. Kennedy\", \"JFK\", \"FDR\", \"John F. Kenedy\", \"John Kennedy\", \"Jack Kennedy\", \"Jacqueline Kennedy\", \"Robert F. Kenedy\"]\n",
        "\n",
        "for student_answer in student_answer_list:\n",
        "    print(student_answer + \" - \" + str(chain.run({'question':question, 'correct_answer':correct_answer, 'student_answer':student_answer})))\n",
        "    print('\\n')"
      ]
    },
    {
      "cell_type": "markdown",
      "id": "f78a91e4-5be0-490c-95bc-bf8a3792c1d9",
      "metadata": {
        "id": "f78a91e4-5be0-490c-95bc-bf8a3792c1d9"
      },
      "source": [
        "### add output parser"
      ]
    },
    {
      "cell_type": "code",
      "execution_count": 15,
      "id": "ecb2dc7d-74c0-400d-a35f-358f047c9bee",
      "metadata": {
        "id": "ecb2dc7d-74c0-400d-a35f-358f047c9bee"
      },
      "outputs": [],
      "source": [
        "# define output parser\n",
        "class GradeOutputParser(BaseOutputParser):\n",
        "    \"\"\"Determine whether grade was correct or wrong\"\"\"\n",
        "\n",
        "    def parse(self, text: str):\n",
        "        \"\"\"Parse the output of an LLM call.\"\"\"\n",
        "        return \"wrong\" not in text.lower()"
      ]
    },
    {
      "cell_type": "code",
      "execution_count": 16,
      "id": "13c0ee88-0b77-4c1d-8264-34d197193ea3",
      "metadata": {
        "id": "13c0ee88-0b77-4c1d-8264-34d197193ea3"
      },
      "outputs": [],
      "source": [
        "# update chain\n",
        "chain = LLMChain(\n",
        "    llm=chat_model,\n",
        "    prompt=prompt,\n",
        "    output_parser=GradeOutputParser()\n",
        ")"
      ]
    },
    {
      "cell_type": "code",
      "execution_count": 17,
      "id": "ec9f79a2-0b8e-4cc0-bc10-9062a3d0ba3d",
      "metadata": {
        "colab": {
          "base_uri": "https://localhost:8080/"
        },
        "id": "ec9f79a2-0b8e-4cc0-bc10-9062a3d0ba3d",
        "outputId": "5a2c0044-f6b8-4417-acad-d628a0367fd0"
      },
      "outputs": [
        {
          "output_type": "stream",
          "name": "stdout",
          "text": [
            "John F. Kennedy - True\n",
            "JFK - True\n",
            "FDR - False\n",
            "John F. Kenedy - True\n",
            "John Kennedy - True\n",
            "Jack Kennedy - True\n",
            "Jacqueline Kennedy - False\n",
            "Robert F. Kenedy - True\n"
          ]
        }
      ],
      "source": [
        "# grade student answers\n",
        "for student_answer in student_answer_list:\n",
        "    print(student_answer + \" - \" + str(chain.run({'question':question, 'correct_answer':correct_answer, 'student_answer':student_answer})))"
      ]
    }
  ],
  "metadata": {
    "kernelspec": {
      "display_name": "Python 3 (ipykernel)",
      "language": "python",
      "name": "python3"
    },
    "language_info": {
      "codemirror_mode": {
        "name": "ipython",
        "version": 3
      },
      "file_extension": ".py",
      "mimetype": "text/x-python",
      "name": "python",
      "nbconvert_exporter": "python",
      "pygments_lexer": "ipython3",
      "version": "3.11.4"
    },
    "colab": {
      "provenance": [],
      "include_colab_link": true
    }
  },
  "nbformat": 4,
  "nbformat_minor": 5
}